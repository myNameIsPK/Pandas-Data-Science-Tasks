{
 "metadata": {
  "language_info": {
   "codemirror_mode": {
    "name": "ipython",
    "version": 3
   },
   "file_extension": ".py",
   "mimetype": "text/x-python",
   "name": "python",
   "nbconvert_exporter": "python",
   "pygments_lexer": "ipython3",
   "version": "3.7.7-final"
  },
  "orig_nbformat": 2,
  "kernelspec": {
   "name": "python_defaultSpec_1596043418042",
   "display_name": "Python 3.7.7 64-bit ('jucode': conda)"
  }
 },
 "nbformat": 4,
 "nbformat_minor": 2,
 "cells": [
  {
   "cell_type": "code",
   "execution_count": 11,
   "metadata": {},
   "outputs": [
    {
     "output_type": "execute_result",
     "data": {
      "text/plain": "   Order ID                   Product  Quantity Ordered  Price Each  \\\n0    175496  Lightning Charging Cable                 1       14.95   \n1    175497     AA Batteries (4-pack)                 1        3.84   \n2    175498     AA Batteries (4-pack)                 1        3.84   \n3    175499      USB-C Charging Cable                 1       11.95   \n4    175500     AA Batteries (4-pack)                 1        3.84   \n\n       Order Date                      Purchase Address  \n0  04/11/19 09:11    509 Jefferson St, Dallas, TX 75001  \n1  04/08/19 17:46      941 Church St, Atlanta, GA 30301  \n2  04/23/19 23:44         770 6th St, Atlanta, GA 30301  \n3  04/22/19 22:50        572 North St, Dallas, TX 75001  \n4  04/13/19 06:34  361 14th St, San Francisco, CA 94016  ",
      "text/html": "<div>\n<style scoped>\n    .dataframe tbody tr th:only-of-type {\n        vertical-align: middle;\n    }\n\n    .dataframe tbody tr th {\n        vertical-align: top;\n    }\n\n    .dataframe thead th {\n        text-align: right;\n    }\n</style>\n<table border=\"1\" class=\"dataframe\">\n  <thead>\n    <tr style=\"text-align: right;\">\n      <th></th>\n      <th>Order ID</th>\n      <th>Product</th>\n      <th>Quantity Ordered</th>\n      <th>Price Each</th>\n      <th>Order Date</th>\n      <th>Purchase Address</th>\n    </tr>\n  </thead>\n  <tbody>\n    <tr>\n      <th>0</th>\n      <td>175496</td>\n      <td>Lightning Charging Cable</td>\n      <td>1</td>\n      <td>14.95</td>\n      <td>04/11/19 09:11</td>\n      <td>509 Jefferson St, Dallas, TX 75001</td>\n    </tr>\n    <tr>\n      <th>1</th>\n      <td>175497</td>\n      <td>AA Batteries (4-pack)</td>\n      <td>1</td>\n      <td>3.84</td>\n      <td>04/08/19 17:46</td>\n      <td>941 Church St, Atlanta, GA 30301</td>\n    </tr>\n    <tr>\n      <th>2</th>\n      <td>175498</td>\n      <td>AA Batteries (4-pack)</td>\n      <td>1</td>\n      <td>3.84</td>\n      <td>04/23/19 23:44</td>\n      <td>770 6th St, Atlanta, GA 30301</td>\n    </tr>\n    <tr>\n      <th>3</th>\n      <td>175499</td>\n      <td>USB-C Charging Cable</td>\n      <td>1</td>\n      <td>11.95</td>\n      <td>04/22/19 22:50</td>\n      <td>572 North St, Dallas, TX 75001</td>\n    </tr>\n    <tr>\n      <th>4</th>\n      <td>175500</td>\n      <td>AA Batteries (4-pack)</td>\n      <td>1</td>\n      <td>3.84</td>\n      <td>04/13/19 06:34</td>\n      <td>361 14th St, San Francisco, CA 94016</td>\n    </tr>\n  </tbody>\n</table>\n</div>"
     },
     "metadata": {},
     "execution_count": 11
    }
   ],
   "source": [
    "import numpy as np\n",
    "import pandas as pd\n",
    "\n",
    "df = pd.read_csv('cleaned_data.csv')\n",
    "df.head()"
   ]
  },
  {
   "cell_type": "markdown",
   "metadata": {},
   "source": [
    "### Check data types."
   ]
  },
  {
   "cell_type": "code",
   "execution_count": 12,
   "metadata": {
    "tags": []
   },
   "outputs": [
    {
     "output_type": "stream",
     "name": "stdout",
     "text": "Order ID              int64\nProduct              object\nQuantity Ordered      int64\nPrice Each          float64\nOrder Date           object\nPurchase Address     object\ndtype: object\n"
    },
    {
     "output_type": "execute_result",
     "data": {
      "text/plain": "Order ID              int64\nProduct              object\nQuantity Ordered      int64\nPrice Each          float64\nOrder Date           object\nPurchase Address     object\ndtype: object"
     },
     "metadata": {},
     "execution_count": 12
    }
   ],
   "source": [
    "print(df.dtypes)\n",
    "# pd.to_numeric(df['Quantity Ordered'], downcast='unsigned')\n",
    "df.dtypes"
   ]
  },
  {
   "cell_type": "markdown",
   "metadata": {},
   "source": [
    "### Get month"
   ]
  },
  {
   "cell_type": "code",
   "execution_count": 13,
   "metadata": {},
   "outputs": [
    {
     "output_type": "execute_result",
     "data": {
      "text/plain": "0         Apr\n1         Apr\n2         Apr\n3         Apr\n4         Apr\n         ... \n158177    Sep\n158178    Sep\n158179    Sep\n158180    Sep\n158181    Sep\nName: month, Length: 158182, dtype: object"
     },
     "metadata": {},
     "execution_count": 13
    }
   ],
   "source": [
    "import calendar\n",
    "df['month'] = df['Order Date'].apply(lambda x: calendar.month_abbr[int(x[0:2])])\n",
    "df['month']"
   ]
  },
  {
   "cell_type": "markdown",
   "metadata": {},
   "source": [
    "### Get city."
   ]
  },
  {
   "cell_type": "code",
   "execution_count": 14,
   "metadata": {},
   "outputs": [
    {
     "output_type": "execute_result",
     "data": {
      "text/plain": "0                Dallas\n1               Atlanta\n2               Atlanta\n3                Dallas\n4         San Francisco\n              ...      \n158177    New York City\n158178      Los Angeles\n158179    New York City\n158180    New York City\n158181    New York City\nName: City, Length: 158182, dtype: object"
     },
     "metadata": {},
     "execution_count": 14
    }
   ],
   "source": [
    "df['City'] = df['Purchase Address'].apply(lambda x: x.split(', ')[1])\n",
    "df['City']"
   ]
  },
  {
   "cell_type": "code",
   "execution_count": 15,
   "metadata": {},
   "outputs": [
    {
     "output_type": "execute_result",
     "data": {
      "text/plain": "0         14.95\n1          3.84\n2          3.84\n3         11.95\n4          3.84\n          ...  \n158177    14.95\n158178    11.99\n158179    14.95\n158180    11.99\n158181     2.99\nName: Total Price, Length: 158182, dtype: float64"
     },
     "metadata": {},
     "execution_count": 15
    }
   ],
   "source": [
    "df['Total Price'] = df['Price Each'] * df['Quantity Ordered']\n",
    "df['Total Price']"
   ]
  },
  {
   "cell_type": "code",
   "execution_count": 16,
   "metadata": {},
   "outputs": [],
   "source": [
    "df.to_csv('wrangleddata.csv', index = False)"
   ]
  }
 ]
}