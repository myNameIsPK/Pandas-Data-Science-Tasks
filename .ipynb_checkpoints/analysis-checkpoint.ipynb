{
 "cells": [
  {
   "cell_type": "markdown",
   "metadata": {},
   "source": [
    "### Hello this is my analysis\n",
    "* What was the best month for sales? How much was earned that month?\n",
    "* What city sold the most product?\n",
    "* What time should we display advertisemens to maximize the likelihood of customer’s buying product?\n",
    "* What products are most often sold together?\n",
    "* What product sold the most? Why do you think it sold the most?"
   ]
  },
  {
   "cell_type": "markdown",
   "metadata": {},
   "source": [
    "#### Concatenate all data in one file."
   ]
  },
  {
   "cell_type": "code",
   "execution_count": 6,
   "metadata": {
    "tags": []
   },
   "outputs": [
    {
     "data": {
      "text/html": [
       "<div>\n",
       "<style scoped>\n",
       "    .dataframe tbody tr th:only-of-type {\n",
       "        vertical-align: middle;\n",
       "    }\n",
       "\n",
       "    .dataframe tbody tr th {\n",
       "        vertical-align: top;\n",
       "    }\n",
       "\n",
       "    .dataframe thead th {\n",
       "        text-align: right;\n",
       "    }\n",
       "</style>\n",
       "<table border=\"1\" class=\"dataframe\">\n",
       "  <thead>\n",
       "    <tr style=\"text-align: right;\">\n",
       "      <th></th>\n",
       "      <th>Order ID</th>\n",
       "      <th>Product</th>\n",
       "      <th>Quantity Ordered</th>\n",
       "      <th>Price Each</th>\n",
       "      <th>Order Date</th>\n",
       "      <th>Purchase Address</th>\n",
       "    </tr>\n",
       "  </thead>\n",
       "  <tbody>\n",
       "    <tr>\n",
       "      <th>159139</th>\n",
       "      <td>223909</td>\n",
       "      <td>Lightning Charging Cable</td>\n",
       "      <td>1</td>\n",
       "      <td>14.95</td>\n",
       "      <td>07/05/19 22:13</td>\n",
       "      <td>760 West St, Seattle, WA 98101</td>\n",
       "    </tr>\n",
       "    <tr>\n",
       "      <th>159140</th>\n",
       "      <td>223910</td>\n",
       "      <td>AA Batteries (4-pack)</td>\n",
       "      <td>1</td>\n",
       "      <td>3.84</td>\n",
       "      <td>07/28/19 10:51</td>\n",
       "      <td>526 8th St, Dallas, TX 75001</td>\n",
       "    </tr>\n",
       "    <tr>\n",
       "      <th>159141</th>\n",
       "      <td>223911</td>\n",
       "      <td>Apple Airpods Headphones</td>\n",
       "      <td>1</td>\n",
       "      <td>150</td>\n",
       "      <td>07/22/19 19:08</td>\n",
       "      <td>904 11th St, Los Angeles, CA 90001</td>\n",
       "    </tr>\n",
       "    <tr>\n",
       "      <th>159142</th>\n",
       "      <td>223912</td>\n",
       "      <td>Apple Airpods Headphones</td>\n",
       "      <td>1</td>\n",
       "      <td>150</td>\n",
       "      <td>07/20/19 15:48</td>\n",
       "      <td>451 2nd St, San Francisco, CA 94016</td>\n",
       "    </tr>\n",
       "    <tr>\n",
       "      <th>159143</th>\n",
       "      <td>223913</td>\n",
       "      <td>Bose SoundSport Headphones</td>\n",
       "      <td>1</td>\n",
       "      <td>99.99</td>\n",
       "      <td>07/16/19 12:48</td>\n",
       "      <td>443 Forest St, Boston, MA 02215</td>\n",
       "    </tr>\n",
       "  </tbody>\n",
       "</table>\n",
       "</div>"
      ],
      "text/plain": [
       "       Order ID                     Product Quantity Ordered Price Each  \\\n",
       "159139   223909    Lightning Charging Cable                1      14.95   \n",
       "159140   223910       AA Batteries (4-pack)                1       3.84   \n",
       "159141   223911    Apple Airpods Headphones                1        150   \n",
       "159142   223912    Apple Airpods Headphones                1        150   \n",
       "159143   223913  Bose SoundSport Headphones                1      99.99   \n",
       "\n",
       "            Order Date                     Purchase Address  \n",
       "159139  07/05/19 22:13       760 West St, Seattle, WA 98101  \n",
       "159140  07/28/19 10:51         526 8th St, Dallas, TX 75001  \n",
       "159141  07/22/19 19:08   904 11th St, Los Angeles, CA 90001  \n",
       "159142  07/20/19 15:48  451 2nd St, San Francisco, CA 94016  \n",
       "159143  07/16/19 12:48      443 Forest St, Boston, MA 02215  "
      ]
     },
     "execution_count": 6,
     "metadata": {},
     "output_type": "execute_result"
    }
   ],
   "source": [
    "import numpy as np\n",
    "import pandas as pd\n",
    "import os\n",
    "files = [file for file in os.listdir('./myoutput') if file.endswith('.csv')]\n",
    "\n",
    "all_table = []\n",
    "for file_name in files:\n",
    "    table = pd.read_csv(f'./myoutput/{file_name}')\n",
    "    all_table.append(table)\n",
    "df = pd.concat(all_table, ignore_index=True)\n",
    "del files, file_name, all_table, table\n",
    "# df.to_csv('mydata.csv', index=False)\n",
    "# df.tail()\n",
    "df = df[df['Order ID']]\n",
    "df."
   ]
  },
  {
   "cell_type": "markdown",
   "metadata": {},
   "source": [
    "#### Find NaN value in dataframe."
   ]
  },
  {
   "cell_type": "code",
   "execution_count": 36,
   "metadata": {
    "tags": []
   },
   "outputs": [
    {
     "name": "stdout",
     "output_type": "stream",
     "text": [
      "True\n",
      "True\n"
     ]
    },
    {
     "data": {
      "text/html": [
       "<div>\n",
       "<style scoped>\n",
       "    .dataframe tbody tr th:only-of-type {\n",
       "        vertical-align: middle;\n",
       "    }\n",
       "\n",
       "    .dataframe tbody tr th {\n",
       "        vertical-align: top;\n",
       "    }\n",
       "\n",
       "    .dataframe thead th {\n",
       "        text-align: right;\n",
       "    }\n",
       "</style>\n",
       "<table border=\"1\" class=\"dataframe\">\n",
       "  <thead>\n",
       "    <tr style=\"text-align: right;\">\n",
       "      <th></th>\n",
       "      <th>Order ID</th>\n",
       "      <th>Product</th>\n",
       "      <th>Quantity Ordered</th>\n",
       "      <th>Price Each</th>\n",
       "      <th>Order Date</th>\n",
       "      <th>Purchase Address</th>\n",
       "    </tr>\n",
       "  </thead>\n",
       "  <tbody>\n",
       "    <tr>\n",
       "      <th>159139</th>\n",
       "      <td>223909</td>\n",
       "      <td>Lightning Charging Cable</td>\n",
       "      <td>1</td>\n",
       "      <td>14.95</td>\n",
       "      <td>07/05/19 22:13</td>\n",
       "      <td>760 West St, Seattle, WA 98101</td>\n",
       "    </tr>\n",
       "    <tr>\n",
       "      <th>159140</th>\n",
       "      <td>223910</td>\n",
       "      <td>AA Batteries (4-pack)</td>\n",
       "      <td>1</td>\n",
       "      <td>3.84</td>\n",
       "      <td>07/28/19 10:51</td>\n",
       "      <td>526 8th St, Dallas, TX 75001</td>\n",
       "    </tr>\n",
       "    <tr>\n",
       "      <th>159141</th>\n",
       "      <td>223911</td>\n",
       "      <td>Apple Airpods Headphones</td>\n",
       "      <td>1</td>\n",
       "      <td>150</td>\n",
       "      <td>07/22/19 19:08</td>\n",
       "      <td>904 11th St, Los Angeles, CA 90001</td>\n",
       "    </tr>\n",
       "    <tr>\n",
       "      <th>159142</th>\n",
       "      <td>223912</td>\n",
       "      <td>Apple Airpods Headphones</td>\n",
       "      <td>1</td>\n",
       "      <td>150</td>\n",
       "      <td>07/20/19 15:48</td>\n",
       "      <td>451 2nd St, San Francisco, CA 94016</td>\n",
       "    </tr>\n",
       "    <tr>\n",
       "      <th>159143</th>\n",
       "      <td>223913</td>\n",
       "      <td>Bose SoundSport Headphones</td>\n",
       "      <td>1</td>\n",
       "      <td>99.99</td>\n",
       "      <td>07/16/19 12:48</td>\n",
       "      <td>443 Forest St, Boston, MA 02215</td>\n",
       "    </tr>\n",
       "  </tbody>\n",
       "</table>\n",
       "</div>"
      ],
      "text/plain": [
       "       Order ID                     Product Quantity Ordered Price Each  \\\n",
       "159139   223909    Lightning Charging Cable                1      14.95   \n",
       "159140   223910       AA Batteries (4-pack)                1       3.84   \n",
       "159141   223911    Apple Airpods Headphones                1        150   \n",
       "159142   223912    Apple Airpods Headphones                1        150   \n",
       "159143   223913  Bose SoundSport Headphones                1      99.99   \n",
       "\n",
       "            Order Date                     Purchase Address  \n",
       "159139  07/05/19 22:13       760 West St, Seattle, WA 98101  \n",
       "159140  07/28/19 10:51         526 8th St, Dallas, TX 75001  \n",
       "159141  07/22/19 19:08   904 11th St, Los Angeles, CA 90001  \n",
       "159142  07/20/19 15:48  451 2nd St, San Francisco, CA 94016  \n",
       "159143  07/16/19 12:48      443 Forest St, Boston, MA 02215  "
      ]
     },
     "execution_count": 36,
     "metadata": {},
     "output_type": "execute_result"
    }
   ],
   "source": [
    "df2 = pd.read_csv('mydata.csv')\n",
    "print(df.isnull().values.any())\n",
    "df2.dropna(inplace=True)\n",
    "print(df.isnull().values.any())\n",
    "df2.tail()"
   ]
  },
  {
   "cell_type": "code",
   "execution_count": 34,
   "metadata": {},
   "outputs": [
    {
     "data": {
      "text/plain": [
       "0         1\n",
       "1         1\n",
       "2         1\n",
       "3         1\n",
       "4         1\n",
       "         ..\n",
       "159139    1\n",
       "159140    1\n",
       "159141    1\n",
       "159142    1\n",
       "159143    1\n",
       "Name: Quantity Ordered, Length: 159144, dtype: object"
      ]
     },
     "execution_count": 34,
     "metadata": {},
     "output_type": "execute_result"
    }
   ],
   "source": [
    "df['Quantity Ordered']"
   ]
  }
 ],
 "metadata": {
  "kernelspec": {
   "display_name": "Python 3",
   "language": "python",
   "name": "python3"
  },
  "language_info": {
   "codemirror_mode": {
    "name": "ipython",
    "version": 3
   },
   "file_extension": ".py",
   "mimetype": "text/x-python",
   "name": "python",
   "nbconvert_exporter": "python",
   "pygments_lexer": "ipython3",
   "version": "3.7.8"
  }
 },
 "nbformat": 4,
 "nbformat_minor": 2
}
